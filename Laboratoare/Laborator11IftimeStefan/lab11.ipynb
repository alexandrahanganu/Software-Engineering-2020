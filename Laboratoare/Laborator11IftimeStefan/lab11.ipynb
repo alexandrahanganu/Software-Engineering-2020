{
  "nbformat": 4,
  "nbformat_minor": 0,
  "metadata": {
    "colab": {
      "name": "lab11.ipynb",
      "provenance": [],
      "collapsed_sections": []
    },
    "kernelspec": {
      "name": "python3",
      "display_name": "Python 3"
    }
  },
  "cells": [
    {
      "cell_type": "code",
      "metadata": {
        "id": "6UpL7HFDWhj9",
        "colab_type": "code",
        "outputId": "b298791c-4b84-45bf-efff-9e7adc432f19",
        "colab": {
          "base_uri": "https://localhost:8080/",
          "height": 34
        }
      },
      "source": [
        "from google.colab import drive\n",
        "drive.mount('/content/gdrive')"
      ],
      "execution_count": 0,
      "outputs": [
        {
          "output_type": "stream",
          "text": [
            "Drive already mounted at /content/gdrive; to attempt to forcibly remount, call drive.mount(\"/content/gdrive\", force_remount=True).\n"
          ],
          "name": "stdout"
        }
      ]
    },
    {
      "cell_type": "code",
      "metadata": {
        "id": "TL9N_iICWty9",
        "colab_type": "code",
        "colab": {}
      },
      "source": [
        "import numpy as np\n",
        "import tensorflow as tf\n",
        "import pandas as pd\n",
        "import cv2\n",
        "import glob\n",
        "import matplotlib.pyplot as plt\n",
        "import random\n",
        "from random import randint\n",
        "from pathlib import Path\n",
        "import os"
      ],
      "execution_count": 0,
      "outputs": []
    },
    {
      "cell_type": "code",
      "metadata": {
        "id": "nN-2rvdEbLfl",
        "colab_type": "code",
        "colab": {}
      },
      "source": [
        "!pip uninstall tensorflow\n",
        "!pip install tensorflow==1.13.2"
      ],
      "execution_count": 0,
      "outputs": []
    },
    {
      "cell_type": "code",
      "metadata": {
        "id": "HJGMm_YIW3Ti",
        "colab_type": "code",
        "colab": {}
      },
      "source": [
        "train_dir = '/content/gdrive/My Drive/Small/train'\n",
        "test_dir =  '/content/gdrive/My Drive/Small/test'\n",
        "X = []\n",
        "Y = []\n",
        "\n",
        "#Loop through the training and test folders, as well as the 'normal' and 'affected' subfolders and append all images into array X.  Append the classification (0 or 1) into array Y.\n",
        "\n",
        "for fileName in os.listdir(train_dir + \"/normal\"): \n",
        "        img = cv2.imread(train_dir + \"/normal/\" + fileName)\n",
        "        if img is not None:\n",
        "            Y.append(0)\n",
        "            img = cv2.resize(img,(64,64))\n",
        "            X.append(img)\n",
        "    \n",
        "for fileName in os.listdir(train_dir + \"/affected\"): \n",
        "        img = cv2.imread(train_dir + \"/affected/\" + fileName)\n",
        "        if img is not None:\n",
        "            Y.append(1)\n",
        "            img = cv2.resize(img,(64,64))\n",
        "            X.append(img)\n",
        "            \n",
        "for fileName in os.listdir(test_dir + \"/normal\"): \n",
        "        img = cv2.imread(test_dir + \"/normal/\" + fileName)\n",
        "        if img is not None:\n",
        "            Y.append(0)\n",
        "            img = cv2.resize(img,(64,64))\n",
        "            X.append(img)\n",
        "    \n",
        "for fileName in os.listdir(test_dir + \"/affected\"): \n",
        "        img = cv2.imread(test_dir + \"/affected/\" + fileName)\n",
        "        if img is not None:\n",
        "            Y.append(1)\n",
        "            img = cv2.resize(img,(64,64))\n",
        "            X.append(img)"
      ],
      "execution_count": 0,
      "outputs": []
    },
    {
      "cell_type": "code",
      "metadata": {
        "id": "c0wP4eedZmzb",
        "colab_type": "code",
        "colab": {}
      },
      "source": [
        "print(\"This is an example of a healthy patient:\")\n",
        "normal = cv2.imread(test_dir + \"/normal/CTR_TRN_181_z244.png\")\n",
        "plt.axis('off')\n",
        "plt.imshow(normal)"
      ],
      "execution_count": 0,
      "outputs": []
    },
    {
      "cell_type": "code",
      "metadata": {
        "id": "C6Jjupa_2p1S",
        "colab_type": "code",
        "colab": {}
      },
      "source": [
        "print(\"This is an example of an unhealthy patient:\")\n",
        "affected = cv2.imread(test_dir + \"/affected/CTR_TRN_174_z243.png\")\n",
        "plt.axis('off')\n",
        "plt.imshow(affected)"
      ],
      "execution_count": 0,
      "outputs": []
    },
    {
      "cell_type": "code",
      "metadata": {
        "id": "kTVLT9oYaO-B",
        "colab_type": "code",
        "colab": {}
      },
      "source": [
        "#Data visualization\n",
        "\n",
        "pos = 0\n",
        "neg = 0\n",
        "\n",
        "for i in range(1,len(Y)):\n",
        "    if Y[i] == 1:\n",
        "        pos = pos + 1\n",
        "    else:\n",
        "        neg = neg + 1\n",
        "\n",
        "objects = ('Positive', 'Negative')\n",
        "y_pos = np.arange(len(objects))\n",
        "performance = [pos,neg]\n",
        " \n",
        "plt.bar(y_pos, performance, align='center', alpha=0.5)\n",
        "plt.xticks(y_pos, objects)\n",
        "plt.ylabel('Count')\n",
        "plt.title('X-Ray Diagnosis')\n",
        " \n",
        "plt.show()\n",
        "\n",
        "print(\"There are \" +str(pos) +\"  positive X-ray's in our data\")\n",
        "print(\"There are \" +str(neg) +\"  negative X-ray's in our data\")"
      ],
      "execution_count": 0,
      "outputs": []
    },
    {
      "cell_type": "code",
      "metadata": {
        "id": "k24uEu0GaYX-",
        "colab_type": "code",
        "colab": {}
      },
      "source": [
        "#Normalize our images to ensure gradients do not diverge\n",
        "X = np.array(X)/255\n",
        "\n",
        "#Normalize our data by setting the mean to 0 and variance to 1.\n",
        "X = (X - np.average(X,0))/np.std(X,0)\n",
        "#Convert our Y vector into a categorical (e.g. 0 -> (0,1), 1 -> (1,0))           \n",
        "from keras.utils.np_utils import to_categorical\n",
        "Y = to_categorical(Y, num_classes = 2) #Randomly create our training and test sets using 2/3 of the data for training, and the remaining 1/3 for testing"
      ],
      "execution_count": 0,
      "outputs": []
    },
    {
      "cell_type": "code",
      "metadata": {
        "id": "Y0R2bzTSd-4H",
        "colab_type": "code",
        "outputId": "d9f0a6b3-5480-40a8-a090-33370d2ab4dc",
        "colab": {
          "base_uri": "https://localhost:8080/",
          "height": 119
        }
      },
      "source": [
        "from sklearn.model_selection import train_test_split\n",
        "X_train, X_test, Y_train, Y_test = train_test_split(X,Y, test_size=0.33, random_state=42)\n",
        "\n",
        "pos_train =0\n",
        "neg_train = 0\n",
        "pos_test = 0\n",
        "neg_test = 0\n",
        "\n",
        "\n",
        "for i in range(1,len(Y_train)):\n",
        "    if Y_train[i][0] == 1:\n",
        "        pos_train = pos_train + 1\n",
        "    else:\n",
        "        neg_train = neg_train + 1\n",
        "        \n",
        "for i in range(1,len(Y_test)):\n",
        "    if Y_test[i][0] == 1:\n",
        "        pos_test = pos_test + 1\n",
        "    else:\n",
        "        neg_test = neg_test + 1\n",
        "        \n",
        "print(\"Positive in training: \" + str(pos_train))\n",
        "print(\"Negative in training: \" + str(neg_train))\n",
        "print(\"Train pos/neg ratio: \" + str (pos_train/neg_train))\n",
        "      \n",
        "print(\"Positive in test: \" + str(pos_test))\n",
        "print(\"Negative in test: \" + str(neg_test))\n",
        "print(\"Test pos/neg ratio: \" + str (pos_test/neg_test))"
      ],
      "execution_count": 0,
      "outputs": [
        {
          "output_type": "stream",
          "text": [
            "Positive in training: 185\n",
            "Negative in training: 177\n",
            "Train pos/neg ratio: 1.0451977401129944\n",
            "Positive in test: 95\n",
            "Negative in test: 83\n",
            "Test pos/neg ratio: 1.144578313253012\n"
          ],
          "name": "stdout"
        }
      ]
    },
    {
      "cell_type": "code",
      "metadata": {
        "id": "1c7ZvPLAan9Z",
        "colab_type": "code",
        "colab": {}
      },
      "source": [
        "def create_placeholders(n_H0, n_W0, n_C0, n_y):\n",
        "\n",
        "    X = tf.placeholder(tf.float32,[None,n_H0,n_W0,n_C0])\n",
        "    Y = tf.placeholder(tf.float32,[None,n_y])\n",
        "    \n",
        "    return X, Y"
      ],
      "execution_count": 0,
      "outputs": []
    },
    {
      "cell_type": "code",
      "metadata": {
        "id": "bhcgBpC-cm5l",
        "colab_type": "code",
        "colab": {}
      },
      "source": [
        "def initialize_parameters():\n",
        "    W1 = tf.get_variable(\"W1\",[3,3,3,10],initializer = tf.contrib.layers.xavier_initializer()) #Define our weight for the first convolutional layer\n",
        "    W2 = tf.get_variable(\"W2\",[5,5,10,8],initializer = tf.contrib.layers.xavier_initializer()) #Define our weight for the second convolutional layer\n",
        "    \n",
        "    parameters ={'W1':W1,\n",
        "                'W2':W2,\n",
        "                }\n",
        "    \n",
        "    return parameters"
      ],
      "execution_count": 0,
      "outputs": []
    },
    {
      "cell_type": "code",
      "metadata": {
        "id": "uEdt65x_a019",
        "colab_type": "code",
        "colab": {}
      },
      "source": [
        "#Define our forward propogation algorithm\n",
        "def forward_propagation(X,parameters):\n",
        "    W1 = parameters['W1']\n",
        "    W2 = parameters['W2']\n",
        "    \n",
        "    Z1 = tf.nn.conv2d(X,W1,strides=[1,1,1,1],padding='SAME') #First convolution\n",
        "    A1 = tf.nn.relu(Z1) #ReLu activation on first convolution\n",
        "    Z2 = tf.nn.conv2d(A1,W2,strides=[1,1,1,1],padding='SAME') #Second convolution\n",
        "    A2 = tf.nn.relu(Z2) #ReLu activation on second convolution\n",
        "    P = tf.contrib.layers.flatten(A2) #Flatten A2 into a vector\n",
        "    Z3 = tf.contrib.layers.fully_connected(P,2,activation_fn=None) #Apply fully connected layer with two outputs\n",
        "    A3 = tf.nn.sigmoid(Z3) #Sigmoid activation on fully connected layer\n",
        "    \n",
        "    return A3"
      ],
      "execution_count": 0,
      "outputs": []
    },
    {
      "cell_type": "code",
      "metadata": {
        "id": "UQK0hn-0a3n-",
        "colab_type": "code",
        "colab": {}
      },
      "source": [
        "#Define our cost function\n",
        "def compute_cost(A3,Y):\n",
        "    \n",
        "    cost = -tf.reduce_sum(Y*tf.log(A3) + (1-Y)*tf.log(1-A3)) \n",
        "    \n",
        "    return cost"
      ],
      "execution_count": 0,
      "outputs": []
    },
    {
      "cell_type": "code",
      "metadata": {
        "id": "F5ioFIpYa7_Z",
        "colab_type": "code",
        "colab": {}
      },
      "source": [
        "def model(X_train,Y_train,X_test,Y_test,learning_rate,mini_batch_size,epochs):\n",
        "    costs = [] #Set up an array to store our costs at each iteration\n",
        "    tf.reset_default_graph() #Reset our TensorFlow graph\n",
        "    X,Y = create_placeholders(64,64,3,2) #Create our placeholder variables\n",
        "    parameters = initialize_parameters() #Initialize our weight parameters\n",
        "    A3 = forward_propagation(X,parameters) #Assign our forward propogation output to a variable\n",
        "    cost = compute_cost(A3,Y) #Assign our cost to a varaible\n",
        "    optimizer = tf.train.AdamOptimizer(learning_rate = learning_rate).minimize(cost) #Define our optimzer (Adam Optimization)\n",
        "    init = tf.global_variables_initializer() #Initialize the variables in our TensorFlow graph\n",
        "    temp_cost = 0\n",
        "    with tf.Session() as sess:\n",
        "        sess.run(init)\n",
        "        \n",
        "        for i in range(1,epochs + 1): #Iterate for the number of user defined epochs\n",
        "            z = randint(0,X_train.shape[0] - mini_batch_size) #Chose a random integer between 0 and our sample size - user defined mini-batch size\n",
        "            _ , temp_cost = sess.run([optimizer,cost],feed_dict={X: X_train[z:z+mini_batch_size], Y: Y_train[z:z+mini_batch_size]}) #Run our optimization on a randomly selected mini-batch of size 'mini_batch_size'\n",
        "            print(\"iteration \" + str(i) +\" \" + str(temp_cost))\n",
        "            costs.append(temp_cost)\n",
        "            \n",
        "        parameters = sess.run(parameters)\n",
        "        print (\"Parameters have been optimized.\")\n",
        "        \n",
        "        #Plot our logged costs by iteration\n",
        "        plt.plot(np.squeeze(costs))\n",
        "        plt.ylabel('cost')\n",
        "        plt.xlabel('iterations')\n",
        "        plt.title(\"Learning rate =\" + str(learning_rate))\n",
        "        plt.show()\n",
        "\n",
        "        # Calculate the correct predictions\n",
        "        predictions_train = np.argmax(np.array(sess.run(A3,feed_dict={X:X_train,Y:Y_train})),1)\n",
        "    \n",
        "        accuracy_bool_train = predictions_train == np.argmax(Y_train,1)\n",
        "        accuracy_perc_train = np.average(accuracy_bool_train.astype(int))\n",
        "        \n",
        "        predictions_test = np.argmax(np.array(sess.run(A3,feed_dict={X:X_test,Y:Y_test})),1)\n",
        "    \n",
        "        accuracy_bool_test = predictions_test == np.argmax(Y_test,1)\n",
        "        accuracy_perc_test = np.average(accuracy_bool_test.astype(int))\n",
        "        \n",
        "        print('Training set accuracy is: ' + str(100*accuracy_perc_train) + \"%\")\n",
        "        print('Test set accuracy is: ' + str(100*accuracy_perc_test) + \"%\")\n",
        "        \n",
        "        count_pos = 0\n",
        "        count_true_pos = 0\n",
        "        count_neg = 0\n",
        "        count_true_neg = 0\n",
        "        \n",
        "        #The following loop will determine the accuracy of predicting positive and negative x-ray\n",
        "        for i in range(1,predictions_test.shape[0]):\n",
        "            if predictions_test[i] == 1 and np.argmax(Y_test,1)[i]==1:\n",
        "                count_pos = count_pos+1\n",
        "            if np.argmax(Y_test,1)[i] == 1:\n",
        "                count_true_pos = count_true_pos + 1\n",
        "            if predictions_test[i] == 0 and np.argmax(Y_test,1)[i] == 0:\n",
        "                count_neg = count_neg + 1\n",
        "            if np.argmax(Y_test,1)[i] == 0:\n",
        "                count_true_neg = count_true_neg + 1\n",
        "                \n",
        "        print(\"Positive  prediction accuracy: \" + str((count_pos/count_true_pos)*100) + \"%\")\n",
        "        print(\"Negative  prediction accuracy: \" + str((count_neg/count_true_neg)*100) + \"%\")\n",
        "    \n",
        "        return accuracy_perc_train,accuracy_perc_test"
      ],
      "execution_count": 0,
      "outputs": []
    },
    {
      "cell_type": "code",
      "metadata": {
        "id": "JohxrfdkgXFH",
        "colab_type": "code",
        "colab": {}
      },
      "source": [
        "tf.reset_default_graph()\n",
        "model(X_train[1:3390],Y_train[1:3390],X_test,Y_test,0.000025,32,400)"
      ],
      "execution_count": 0,
      "outputs": []
    }
  ]
}